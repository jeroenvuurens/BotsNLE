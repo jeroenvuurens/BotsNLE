{
 "cells": [
  {
   "cell_type": "markdown",
   "id": "0c23f7a8-aedb-496f-af90-d210e94525fd",
   "metadata": {},
   "source": [
    "# Recording and transfering images\n",
    "\n",
    "In the example folder: angle90, the filenames are encoded as <id>-<time>-<angle>.jpg where id is just a sequential number, time is the relative time it was taken and angle is an estimation of the ground truth label.\n",
    "\n",
    "Estimating the ground truth label should not be too difficult. If the steering decisions are somewhat in the right direction, you should already see that your model works. There are several ways to go about this:\n",
    "- classification: for example left, straight, right\n",
    "- regression: estimate a number\n",
    "\n",
    "You can simply start collecting by selecting a label (e.g. Straight of angle = 0) placing the car on thhe track manually and run a cell that will record an image."
   ]
  },
  {
   "cell_type": "code",
   "execution_count": 2,
   "id": "5450aba1-7844-475b-99b5-a37dc04bfb46",
   "metadata": {},
   "outputs": [],
   "source": [
    "%run car.ipynb\n",
    "from pathlib import Path\n",
    "import os"
   ]
  },
  {
   "cell_type": "code",
   "execution_count": 3,
   "id": "7325cb8d-a52a-4596-affd-85f101cebbbc",
   "metadata": {},
   "outputs": [
    {
     "ename": "FileExistsError",
     "evalue": "[Errno 17] File exists: 'my_images'",
     "output_type": "error",
     "traceback": [
      "\u001b[0;31m---------------------------------------------------------------------------\u001b[0m",
      "\u001b[0;31mFileExistsError\u001b[0m                           Traceback (most recent call last)",
      "Cell \u001b[0;32mIn[3], line 6\u001b[0m\n\u001b[1;32m      4\u001b[0m angle\u001b[38;5;241m=\u001b[39m\u001b[38;5;124m'\u001b[39m\u001b[38;5;124mstraight\u001b[39m\u001b[38;5;124m'\u001b[39m\n\u001b[1;32m      5\u001b[0m folder\u001b[38;5;241m=\u001b[39mPath(\u001b[38;5;124m'\u001b[39m\u001b[38;5;124mmy_images\u001b[39m\u001b[38;5;124m'\u001b[39m)\n\u001b[0;32m----> 6\u001b[0m \u001b[43mos\u001b[49m\u001b[38;5;241;43m.\u001b[39;49m\u001b[43mmkdir\u001b[49m\u001b[43m(\u001b[49m\u001b[43mfolder\u001b[49m\u001b[43m)\u001b[49m\n",
      "\u001b[0;31mFileExistsError\u001b[0m: [Errno 17] File exists: 'my_images'"
     ]
    }
   ],
   "source": [
    "# remember you can only have instance of the car, so you cannot use this in a loop\n",
    "c = Car.get()\n",
    "i = 0\n",
    "angle='straight'\n",
    "folder=Path('my_images')\n",
    "try:\n",
    "    os.mkdir(folder)\n",
    "except: pass"
   ]
  },
  {
   "cell_type": "code",
   "execution_count": 5,
   "id": "6041af7c-2a81-4308-831a-5cc03b06d7f0",
   "metadata": {},
   "outputs": [],
   "source": [
    "# Repeatedly run this cell to grab images\n",
    "c.new_image()\n",
    "c.save_image(folder, f'{i}-{angle}.jpg')\n",
    "i += 1"
   ]
  },
  {
   "cell_type": "markdown",
   "id": "c3f800d7-5c27-4b4f-ba0b-3385c845564f",
   "metadata": {},
   "source": [
    "# Transfer images to the gpuserver\n",
    "\n",
    "To train a model it is highly recommended to move the data to the GPU Server, Google Colab or your own laptop. The latter you can do with an sftp tool like CyberDuck. To copy a folder of images to the GPU server, open a Terminal on the Bot (you need a terminal because you have to enter a password). Then use the following command:\n",
    "\n",
    "rsync -avr my_images jeroen@gpuserver.hhs.nl:notebooks\n",
    "\n",
    "where my_images is your folder on the bot and replace jeroen with your username. You are asked to enter your password and the folder is copied. You have to add notebooks, because this is the root folder for jupyter on the gpu server. \n",
    "\n",
    "After transfering files, you can train a model copy the trained model from the gpu server to the bot and use that "
   ]
  },
  {
   "cell_type": "markdown",
   "id": "9dac0ca7-362d-424e-bd4f-a5878ed5e2b7",
   "metadata": {},
   "source": [
    "# Using a trained model\n",
    "\n",
    "First you will have to tranfer the model back to the bot. See https://pytorch.org/tutorials/beginner/saving_loading_models.html on saving and loading models. You can transfer the model file by downloading the file from jupyter and uploading it on the bot."
   ]
  },
  {
   "cell_type": "markdown",
   "id": "fb729435-1a31-4a91-9d3e-e3a83752cea1",
   "metadata": {},
   "source": [
    "# Estimated angles\n",
    "\n",
    "To make your model behave well when it is out-of-position, you can record out of position images as well. What you could also do is use image augmentation or estimate a steering angle from the images.\n",
    "\n",
    "To estimate a steering angle, you could do something very simple such as, grab a line closer to the bottom of the image, estimate where the darkest spot is and compute an angle from that. You can also do something more fancy, but a simple estimation should already work, so do not overdo it."
   ]
  },
  {
   "cell_type": "markdown",
   "id": "ae4b8bd0-9f6d-441f-b62e-9362d3467fe4",
   "metadata": {},
   "source": [
    "# Difficult conditions\n",
    "\n",
    "You model may overfit on the environment. As a precaution, you may want to shoot additional images in different surroundings. Make it easy for yourselves and only use the bottom part of the images. You may also face different lighting conditions. It is often better to start simple, shoot images in easy lighting conditions and if that works either add more variation to your dataset or use image augmentation."
   ]
  },
  {
   "cell_type": "code",
   "execution_count": null,
   "id": "9dbf483a-99e7-4fd5-bd96-8e78715960b3",
   "metadata": {},
   "outputs": [],
   "source": []
  }
 ],
 "metadata": {
  "kernelspec": {
   "display_name": "Python 3 (ipykernel)",
   "language": "python",
   "name": "python3"
  },
  "language_info": {
   "codemirror_mode": {
    "name": "ipython",
    "version": 3
   },
   "file_extension": ".py",
   "mimetype": "text/x-python",
   "name": "python",
   "nbconvert_exporter": "python",
   "pygments_lexer": "ipython3",
   "version": "3.9.2"
  }
 },
 "nbformat": 4,
 "nbformat_minor": 5
}
