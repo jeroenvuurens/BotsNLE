{
 "cells": [
  {
   "cell_type": "code",
   "execution_count": 1,
   "id": "d016d3c6-ea44-4ea6-8e96-9258ee465b4a",
   "metadata": {},
   "outputs": [],
   "source": [
    "%run car.ipynb"
   ]
  },
  {
   "cell_type": "markdown",
   "id": "c604ed1e-1b90-43bd-987a-33acae8abfb1",
   "metadata": {},
   "source": [
    "This is a piece of code to directly test if the wheels work and the pins are connected correctly and MINSPEED was configured to a decent value."
   ]
  },
  {
   "cell_type": "code",
   "execution_count": 2,
   "id": "7649d342-01a5-4b06-a234-de7efda61679",
   "metadata": {},
   "outputs": [],
   "source": [
    "c = Car.get()"
   ]
  },
  {
   "cell_type": "code",
   "execution_count": 7,
   "id": "a82e606c-b592-4d84-a6f5-6944fce53d96",
   "metadata": {},
   "outputs": [
    {
     "name": "stdout",
     "output_type": "stream",
     "text": [
      "spin left wheel forward for two seconds\n",
      "spin left wheel forward more slowly for two seconds\n",
      "stop left wheel and spin right wheel forward for two seconds\n",
      "spin right wheel forward more slowly for two seconds\n",
      "turn in place for two seconds\n",
      "turn in place the other way around for two seconds\n",
      "stopping the wheels\n"
     ]
    }
   ],
   "source": [
    "# Use a try-finally block to make sure that whenever an error occurs or if you interrupt the execution, the car will stop.\n",
    "# This is a piece of code to directly test if the wheels work\n",
    "try:\n",
    "    print('spin left wheel forward for two seconds')\n",
    "    c.left.speed = 100\n",
    "    sleep(2)\n",
    "    print('spin left wheel forward more slowly for two seconds')\n",
    "    c.left.speed = 70\n",
    "    sleep(2)\n",
    "    print('stop left wheel and spin right wheel forward for two seconds')\n",
    "    c.left.speed = 0\n",
    "    c.right.speed = 100\n",
    "    sleep(2)\n",
    "    print('spin right wheel forward more slowly for two seconds')\n",
    "    c.right.speed = 80\n",
    "    sleep(2)\n",
    "    print('turn in place for two seconds')\n",
    "    c.left.speed = 100\n",
    "    c.right.speed = -100\n",
    "    sleep(2)\n",
    "    print('turn in place the other way around for two seconds')\n",
    "    c.left.speed = -100\n",
    "    c.right.speed = 100\n",
    "    sleep(2)\n",
    "finally:\n",
    "    print('stopping the wheels')\n",
    "    c.left.speed = 0\n",
    "    c.right.speed = 0\n",
    "   "
   ]
  },
  {
   "cell_type": "code",
   "execution_count": 9,
   "id": "c1b30f60-596c-48dc-af9b-7ddb70cd8c2a",
   "metadata": {},
   "outputs": [
    {
     "name": "stdout",
     "output_type": "stream",
     "text": [
      "move the car forward, is probably not going exactly straight\n",
      "move forward at angle=45, meaning the right wheels slows down\n",
      "turn right\n",
      "go straight\n",
      "stop the car\n"
     ]
    }
   ],
   "source": [
    "try:    # the try finally is here to make sure that if anything \n",
    "    print('move the car forward, is probably not going exactly straight')\n",
    "    c.speed = 100\n",
    "    c.forward()\n",
    "    print('move forward at angle=45, meaning the right wheels slows down')\n",
    "    sleep(2)\n",
    "    c.angle=45\n",
    "    sleep(2)\n",
    "    print('turn right')\n",
    "    c.angle=90\n",
    "    sleep(2)\n",
    "    print('go straight')\n",
    "    c.angle=0\n",
    "    sleep(2)\n",
    "finally:\n",
    "    print('stop the car')\n",
    "    c.stop()"
   ]
  },
  {
   "cell_type": "markdown",
   "id": "f4c057bc-c295-41b8-82ac-41298b89be01",
   "metadata": {},
   "source": [
    "Demo getting an image"
   ]
  },
  {
   "cell_type": "code",
   "execution_count": null,
   "id": "5b50f366-11c3-4f62-906e-72e6aaa4d19d",
   "metadata": {},
   "outputs": [],
   "source": [
    "c.new_image()\n",
    "c.show_image()"
   ]
  },
  {
   "cell_type": "code",
   "execution_count": null,
   "id": "273ffb5e-0710-454f-93f8-56d2ea1ad53a",
   "metadata": {},
   "outputs": [],
   "source": []
  }
 ],
 "metadata": {
  "kernelspec": {
   "display_name": "Python 3 (ipykernel)",
   "language": "python",
   "name": "python3"
  },
  "language_info": {
   "codemirror_mode": {
    "name": "ipython",
    "version": 3
   },
   "file_extension": ".py",
   "mimetype": "text/x-python",
   "name": "python",
   "nbconvert_exporter": "python",
   "pygments_lexer": "ipython3",
   "version": "3.9.2"
  }
 },
 "nbformat": 4,
 "nbformat_minor": 5
}
